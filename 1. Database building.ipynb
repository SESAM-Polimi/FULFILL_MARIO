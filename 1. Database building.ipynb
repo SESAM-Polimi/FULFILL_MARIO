{
 "cells": [
  {
   "cell_type": "markdown",
   "id": "9854f4d9",
   "metadata": {},
   "source": [
    "# Database Building | \"The role of sufficiency measures in a decarbonizing Europe\"\n",
    "\n",
    "This notebook is the **first step** to replicate the results from the article:\n",
    "\n",
    "> **\"The role of sufficiency measures in a decarbonizing Europe\"**  \n",
    "> Published: 29 April 2025, Ecological Economics  \n",
    "> DOI: [10.1016/j.ecolecon.2025.108645](https://doi.org/10.1016/j.ecolecon.2025.108645)\n",
    "\n",
    "---\n",
    "\n",
    "## About the Zenodo Repository\n",
    "\n",
    "The Zenodo repository contains all data and results related to the study.  \n",
    "**[Zenodo Link](https://zenodo.org/records/15261005)**\n",
    "\n",
    "### Contents\n",
    "\n",
    "- **Extended results:** Full set of results, including detailed outputs, scenario comparisons, and sensitivity analyses.\n",
    "- **Exiobase v3.3.18 - MARIO format:** The unmodified Exiobase v3.3.18 database, converted for MARIO.\n",
    "- **MARIO database:** Ready-to-use database for background and sufficiency scenario analyses.\n",
    "- **Files for shocks:** Data and assumptions for scenario-based shocks.\n",
    "\n",
    "**All files should be used with the instructions and scripts in this GitHub repository, as referenced in the paper.**\n",
    "\n",
    "---\n",
    "\n",
    "## Step 1: Download and Extract Exiobase Database\n",
    "\n",
    "The following cell downloads the Exiobase v3.3.18 database in MARIO format from Zenodo and extracts it for further processing."
   ]
  },
  {
   "cell_type": "code",
   "execution_count": null,
   "id": "9e81e3c9",
   "metadata": {},
   "outputs": [],
   "source": [
    "import requests\n",
    "import os\n",
    "import zipfile\n",
    "\n",
    "url = \"https://zenodo.org/records/15308822/files/Exiobase%20v3.3.18%20-%20MARIO%20format.zip?download=1\" \n",
    "output_path = \"Data/Exiobase v3.3.18 - MARIO format.zip\"\n",
    "extract_path = \"Data/Exiobase v3.3.18 - MARIO format\"\n",
    "\n",
    "os.makedirs(os.path.dirname(output_path), exist_ok=True)\n",
    "response = requests.get(url, stream=True)\n",
    "with open(output_path, \"wb\") as f:\n",
    "    for chunk in response.iter_content(chunk_size=8192):\n",
    "        f.write(chunk)\n",
    "\n",
    "# Extract the ZIP file\n",
    "with zipfile.ZipFile(output_path, 'r') as zip_ref:\n",
    "    zip_ref.extractall(extract_path)\n",
    "    \n",
    "    # Delete the ZIP file after extraction\n",
    "    os.remove(output_path)\n"
   ]
  },
  {
   "cell_type": "markdown",
   "id": "63f96f14",
   "metadata": {},
   "source": [
    "## Step 2: Parse Exiobase Database with MARIO\n",
    "\n",
    "This step parses the extracted Exiobase database using the `mario` package, preparing it for aggregation and further modifications."
   ]
  },
  {
   "cell_type": "code",
   "execution_count": null,
   "id": "1f48aeff",
   "metadata": {},
   "outputs": [],
   "source": [
    "import mario\n",
    "import warnings \n",
    "warnings.filterwarnings(\"ignore\") # Pandas became a bit noisy with warnings\n",
    "\n",
    "db = mario.parse_from_txt(\n",
    "    path = extract_path+\"/flows\",\n",
    "    table = 'SUT', \n",
    "    mode ='flows'\n",
    ")"
   ]
  },
  {
   "cell_type": "markdown",
   "id": "ac5e79b1",
   "metadata": {},
   "source": [
    "## Step 3: Aggregate Database\n",
    "\n",
    "Aggregate the parsed database using the specified aggregation file. This step prepares the data for the addition of new supply chains and further analysis."
   ]
  },
  {
   "cell_type": "code",
   "execution_count": null,
   "id": "015fe7b5",
   "metadata": {},
   "outputs": [],
   "source": [
    "os.makedirs(\"Data/Database modifications\", exist_ok=True)\n",
    "\n",
    "db.aggregate(\n",
    "    io = f\"Data/Database modifications/Aggregation.xlsx\", \n",
    "    ignore_nan=True, \n",
    ")"
   ]
  },
  {
   "cell_type": "markdown",
   "id": "3eeda982",
   "metadata": {},
   "source": [
    "## Step 4: Add New Supply Chains\n",
    "\n",
    "This step adds new supply chains and sectors to the database using custom mapping and value files.  \n",
    "This step is supported by an ad-hoc function which is soon to be released within the source code of MARIO. Currently, it is available just in the \"dev\" branch of the MARIO GitHub repository: [https://github.com/it-is-me-mario/MARIO/tree/dev](https://github.com/it-is-me-mario/MARIO/tree/dev)"
   ]
  },
  {
   "cell_type": "code",
   "execution_count": null,
   "id": "ff3e1c2f",
   "metadata": {},
   "outputs": [],
   "source": [
    "os.makedirs(\"Data/Database modifications\", exist_ok=True)\n",
    "\n",
    "# Comment if the file is ready\n",
    "# db.get_add_sectors_excel(\"Data/Database modifications/Add sectors.xlsx\") \n",
    "\n",
    "# Comment if inventories are already prepared\n",
    "# db.read_add_sectors_excel(                                               \n",
    "#     \"Data/Database modifications/Add sectors.xlsx\", \n",
    "#     get_inventories=True, \n",
    "# )\n",
    "\n",
    "# Read inventories from add sectors file\n",
    "db.read_add_sectors_excel(                                                \n",
    "    \"Data/Database modifications/Add sectors.xlsx\", \n",
    "    read_inventories=True, \n",
    ")\n",
    "\n",
    "# Add inventories to the database\n",
    "db.add_sectors()"
   ]
  },
  {
   "cell_type": "markdown",
   "id": "37d14714",
   "metadata": {},
   "source": [
    "## Step 5: Add Extra Emissions for Air Transport\n",
    "\n",
    "This step demonstrates how to add extra emissions for air transport, as explained in Section 3.3.2 of the article."
   ]
  },
  {
   "cell_type": "code",
   "execution_count": null,
   "id": "b7203704",
   "metadata": {},
   "outputs": [],
   "source": [
    "import copy\n",
    "import pandas as pd\n",
    "\n",
    "# Adding extra emissions for air transport\n",
    "E_airtransport = copy.deepcopy(db.E.loc['Carbon dioxide, fossil',:])\n",
    "all_activities = db.get_index('Activity')\n",
    "all_activities.remove(db.search('Activity', 'Air transport')[0])\n",
    "\n",
    "E_airtransport.loc[(slice(None),slice(None),all_activities)] = 0\n",
    "E_airtransport = E_airtransport.to_frame().T\n",
    "E_airtransport.index = ['Air transport extra emissions']\n",
    "units_E = pd.DataFrame(['tonnes'], index=['Air transport extra emissions'], columns=['unit'])\n",
    "\n",
    "db.add_extensions(io=E_airtransport, matrix='E', units=units_E, inplace=True)"
   ]
  },
  {
   "cell_type": "markdown",
   "id": "40c65db0",
   "metadata": {},
   "source": [
    "## Step 6: Check Footprints of New Activities just added\n",
    "\n",
    "This step demonstrates how to check on the footprints (CO2 in this example) of the activities added to the database. Consider that all activities aside of diets are initialized as empty and filled in the next step."
   ]
  },
  {
   "cell_type": "code",
   "execution_count": null,
   "id": "ac169e52",
   "metadata": {},
   "outputs": [],
   "source": [
    "db.f.loc['Carbon dioxide, fossil',('IT',slice(None),db.new_activities)]"
   ]
  },
  {
   "cell_type": "markdown",
   "id": "17ba2485",
   "metadata": {},
   "source": [
    "## Step 7: Save the Updated Database\n",
    "\n",
    "This step saves the updated MARIO database, including all modifications and additions, to the specified directory for further use in scenario analyses.\n"
   ]
  },
  {
   "cell_type": "code",
   "execution_count": null,
   "id": "8815a905",
   "metadata": {},
   "outputs": [],
   "source": [
    "os.makedirs(\"Data/MARIO database\", exist_ok=True)\n",
    "\n",
    "db.to_txt(\n",
    "    path = \"Data/MARIO database\",\n",
    ")"
   ]
  }
 ],
 "metadata": {
  "kernelspec": {
   "display_name": "mario",
   "language": "python",
   "name": "python3"
  },
  "language_info": {
   "codemirror_mode": {
    "name": "ipython",
    "version": 3
   },
   "file_extension": ".py",
   "mimetype": "text/x-python",
   "name": "python",
   "nbconvert_exporter": "python",
   "pygments_lexer": "ipython3",
   "version": "3.10.14"
  }
 },
 "nbformat": 4,
 "nbformat_minor": 5
}
